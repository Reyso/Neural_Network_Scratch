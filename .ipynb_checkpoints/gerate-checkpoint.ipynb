{
 "cells": [
  {
   "cell_type": "code",
   "execution_count": null,
   "id": "27bf02c8-fab5-431d-9947-c04384e0c412",
   "metadata": {},
   "outputs": [],
   "source": [
    "def generate_data():\n",
    "    # Define correlation values\n",
    "    corr_a = 0.8\n",
    "    corr_b = 0.4\n",
    "    corr_c = -0.2\n",
    "    \n",
    "    # Generate independent features\n",
    "    a = np.random.normal(0, 1, size=100000)\n",
    "    b = np.random.normal(0, 1, size=100000)\n",
    "    c = np.random.normal(0, 1, size=100000)\n",
    "    d = np.random.randint(0, 4, size=100000)\n",
    "    e = np.random.binomial(1, 0.5, size=100000)\n",
    "    \n",
    "    # Generate target feature based on independent features\n",
    "    target = 50 + corr_a*a + corr_b*b + corr_c*c + d*10 + 20*e + np.random.normal(0, 10, size=100000)\n",
    "    \n",
    "    # Create DataFrame with all features\n",
    "    df = pd.DataFrame({'a': a, 'b': b, 'c': c, 'd': d, 'e': e, 'target': target})\n",
    "    return df"
   ]
  }
 ],
 "metadata": {
  "kernelspec": {
   "display_name": "Python 3 (ipykernel)",
   "language": "python",
   "name": "python3"
  },
  "language_info": {
   "codemirror_mode": {
    "name": "ipython",
    "version": 3
   },
   "file_extension": ".py",
   "mimetype": "text/x-python",
   "name": "python",
   "nbconvert_exporter": "python",
   "pygments_lexer": "ipython3",
   "version": "3.11.5"
  }
 },
 "nbformat": 4,
 "nbformat_minor": 5
}
