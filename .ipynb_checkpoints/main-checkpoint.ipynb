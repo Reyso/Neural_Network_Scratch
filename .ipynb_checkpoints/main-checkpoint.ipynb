{
 "cells": [
  {
   "cell_type": "code",
   "execution_count": 1,
   "id": "f89985ab-425a-4f71-b080-682882c39b5c",
   "metadata": {
    "tags": []
   },
   "outputs": [],
   "source": [
    "import numpy as np\n",
    "import pandas as pd\n",
    "\n",
    "import matplotlib.pyplot as plt\n",
    "import seaborn as sns\n",
    "\n",
    "from sklearn.model_selection import train_test_split\n",
    "from sklearn.preprocessing import StandardScaler\n",
    "from sklearn.metrics import mean_squared_error, accuracy_score,  f1_score, confusion_matrix\n",
    "\n",
    "\n",
    "from Neural_Network_final import Neural\n",
    "\n"
   ]
  },
  {
   "cell_type": "markdown",
   "id": "056f6013-4ec8-4de9-8fd0-2fc2c5146627",
   "metadata": {
    "tags": []
   },
   "source": [
    "## Functions"
   ]
  },
  {
   "cell_type": "markdown",
   "id": "8a3536ec-a8a0-4889-a5dd-95c27049593b",
   "metadata": {
    "tags": []
   },
   "source": [
    "## Import"
   ]
  },
  {
   "cell_type": "code",
   "execution_count": 2,
   "id": "b5d4db9c-8469-4936-be3e-02df5bc1288e",
   "metadata": {
    "tags": []
   },
   "outputs": [],
   "source": [
    "import pandas  as pd\n",
    "\n",
    "cols = ['BI-RADS','idade','forma','margem','densidade','target']\n",
    "data = pd.read_excel('db/dadosmamografia.xlsx',names=cols)"
   ]
  },
  {
   "cell_type": "code",
   "execution_count": 3,
   "id": "5b256fa3-f747-4d1f-aac8-10d8d89accb5",
   "metadata": {
    "tags": []
   },
   "outputs": [
    {
     "data": {
      "text/html": [
       "<div>\n",
       "<style scoped>\n",
       "    .dataframe tbody tr th:only-of-type {\n",
       "        vertical-align: middle;\n",
       "    }\n",
       "\n",
       "    .dataframe tbody tr th {\n",
       "        vertical-align: top;\n",
       "    }\n",
       "\n",
       "    .dataframe thead th {\n",
       "        text-align: right;\n",
       "    }\n",
       "</style>\n",
       "<table border=\"1\" class=\"dataframe\">\n",
       "  <thead>\n",
       "    <tr style=\"text-align: right;\">\n",
       "      <th></th>\n",
       "      <th>BI-RADS</th>\n",
       "      <th>idade</th>\n",
       "      <th>forma</th>\n",
       "      <th>margem</th>\n",
       "      <th>densidade</th>\n",
       "      <th>target</th>\n",
       "    </tr>\n",
       "  </thead>\n",
       "  <tbody>\n",
       "    <tr>\n",
       "      <th>0</th>\n",
       "      <td>5</td>\n",
       "      <td>58</td>\n",
       "      <td>4</td>\n",
       "      <td>5</td>\n",
       "      <td>3</td>\n",
       "      <td>1</td>\n",
       "    </tr>\n",
       "    <tr>\n",
       "      <th>1</th>\n",
       "      <td>4</td>\n",
       "      <td>28</td>\n",
       "      <td>1</td>\n",
       "      <td>1</td>\n",
       "      <td>3</td>\n",
       "      <td>0</td>\n",
       "    </tr>\n",
       "    <tr>\n",
       "      <th>2</th>\n",
       "      <td>5</td>\n",
       "      <td>57</td>\n",
       "      <td>1</td>\n",
       "      <td>5</td>\n",
       "      <td>3</td>\n",
       "      <td>1</td>\n",
       "    </tr>\n",
       "    <tr>\n",
       "      <th>3</th>\n",
       "      <td>5</td>\n",
       "      <td>76</td>\n",
       "      <td>1</td>\n",
       "      <td>4</td>\n",
       "      <td>3</td>\n",
       "      <td>1</td>\n",
       "    </tr>\n",
       "    <tr>\n",
       "      <th>4</th>\n",
       "      <td>3</td>\n",
       "      <td>42</td>\n",
       "      <td>2</td>\n",
       "      <td>1</td>\n",
       "      <td>3</td>\n",
       "      <td>1</td>\n",
       "    </tr>\n",
       "    <tr>\n",
       "      <th>...</th>\n",
       "      <td>...</td>\n",
       "      <td>...</td>\n",
       "      <td>...</td>\n",
       "      <td>...</td>\n",
       "      <td>...</td>\n",
       "      <td>...</td>\n",
       "    </tr>\n",
       "    <tr>\n",
       "      <th>828</th>\n",
       "      <td>4</td>\n",
       "      <td>47</td>\n",
       "      <td>2</td>\n",
       "      <td>1</td>\n",
       "      <td>3</td>\n",
       "      <td>0</td>\n",
       "    </tr>\n",
       "    <tr>\n",
       "      <th>829</th>\n",
       "      <td>4</td>\n",
       "      <td>56</td>\n",
       "      <td>4</td>\n",
       "      <td>5</td>\n",
       "      <td>3</td>\n",
       "      <td>1</td>\n",
       "    </tr>\n",
       "    <tr>\n",
       "      <th>830</th>\n",
       "      <td>4</td>\n",
       "      <td>64</td>\n",
       "      <td>4</td>\n",
       "      <td>5</td>\n",
       "      <td>3</td>\n",
       "      <td>0</td>\n",
       "    </tr>\n",
       "    <tr>\n",
       "      <th>831</th>\n",
       "      <td>5</td>\n",
       "      <td>66</td>\n",
       "      <td>4</td>\n",
       "      <td>5</td>\n",
       "      <td>3</td>\n",
       "      <td>1</td>\n",
       "    </tr>\n",
       "    <tr>\n",
       "      <th>832</th>\n",
       "      <td>4</td>\n",
       "      <td>62</td>\n",
       "      <td>3</td>\n",
       "      <td>3</td>\n",
       "      <td>3</td>\n",
       "      <td>0</td>\n",
       "    </tr>\n",
       "  </tbody>\n",
       "</table>\n",
       "<p>833 rows × 6 columns</p>\n",
       "</div>"
      ],
      "text/plain": [
       "     BI-RADS  idade  forma  margem  densidade  target\n",
       "0          5     58      4       5          3       1\n",
       "1          4     28      1       1          3       0\n",
       "2          5     57      1       5          3       1\n",
       "3          5     76      1       4          3       1\n",
       "4          3     42      2       1          3       1\n",
       "..       ...    ...    ...     ...        ...     ...\n",
       "828        4     47      2       1          3       0\n",
       "829        4     56      4       5          3       1\n",
       "830        4     64      4       5          3       0\n",
       "831        5     66      4       5          3       1\n",
       "832        4     62      3       3          3       0\n",
       "\n",
       "[833 rows x 6 columns]"
      ]
     },
     "execution_count": 3,
     "metadata": {},
     "output_type": "execute_result"
    }
   ],
   "source": [
    "data"
   ]
  },
  {
   "cell_type": "markdown",
   "id": "01d8e329-4d16-4438-95b4-22da14f489da",
   "metadata": {},
   "source": [
    "##  Train and  Test"
   ]
  },
  {
   "cell_type": "code",
   "execution_count": 4,
   "id": "b45a5cb2-7ef0-4dd0-9a52-6f9671c7b95f",
   "metadata": {
    "tags": []
   },
   "outputs": [],
   "source": [
    "df = data\n",
    "\n",
    "# Separate the features and target\n",
    "X = df.drop('target', axis=1)\n",
    "y = df['target']\n"
   ]
  },
  {
   "cell_type": "code",
   "execution_count": 5,
   "id": "c15a0565-37c4-4c7d-81e7-be3b6e6d5046",
   "metadata": {
    "tags": []
   },
   "outputs": [],
   "source": [
    "# Split the dataset into training and testing sets\n",
    "X_train, X_test, y_train, y_test = train_test_split(X, y, test_size=0.2, random_state=42)\n",
    "y_train = y_train.to_numpy().reshape(-1,1)\n",
    "\n",
    "y_test = y_test.to_numpy().reshape(-1,1)"
   ]
  },
  {
   "cell_type": "code",
   "execution_count": 6,
   "id": "ec094f67-d3e4-4a7d-ac47-e2cf8f40430c",
   "metadata": {
    "tags": []
   },
   "outputs": [],
   "source": [
    "scaler = StandardScaler()\n",
    "X_train = scaler.fit_transform(X_train)\n",
    "\n",
    "X_test = scaler.fit_transform(X_test)"
   ]
  },
  {
   "cell_type": "code",
   "execution_count": 7,
   "id": "8b286903-2447-45ce-a01b-aeada43cdec2",
   "metadata": {
    "tags": []
   },
   "outputs": [
    {
     "name": "stdout",
     "output_type": "stream",
     "text": [
      "X_train:(666, 5)\n",
      "y_train: (666, 1)\n"
     ]
    }
   ],
   "source": [
    "print(f'X_train:{X_train.shape}\\ny_train: {y_train.shape}')"
   ]
  },
  {
   "cell_type": "code",
   "execution_count": 8,
   "id": "0fa86a4c-3874-4355-9984-5cbd3aede858",
   "metadata": {
    "tags": []
   },
   "outputs": [
    {
     "name": "stdout",
     "output_type": "stream",
     "text": [
      "X_test:(167, 5)\n",
      "y_test: (167, 1)\n"
     ]
    }
   ],
   "source": [
    "print(f'X_test:{X_test.shape}\\ny_test: {y_test.shape}')"
   ]
  },
  {
   "cell_type": "code",
   "execution_count": 9,
   "id": "edc513bd-cf05-4352-a106-519b53d905b5",
   "metadata": {},
   "outputs": [],
   "source": [
    "first_layer = X_train.shape[1] #5\n",
    "layer_structure = [first_layer,5,2,1]\n",
    "nn = Neural(layer_structure, epochs= 1000, learning_rate=1e-3, batch_size=64, validation_split= 0.2, verbose= 0,activation_function='relu')"
   ]
  },
  {
   "cell_type": "code",
   "execution_count": 10,
   "id": "d17dcf66-8b8a-4782-93ce-1867dbb98ece",
   "metadata": {
    "tags": []
   },
   "outputs": [
    {
     "name": "stdout",
     "output_type": "stream",
     "text": [
      "Layer 1 - Weights:\n",
      "[[-0.04130475  0.06175464 -0.01067228 -0.0228128   0.08766956]\n",
      " [ 0.05553448 -0.05457734 -0.03199912  0.05119475  0.00902487]\n",
      " [-0.04187272  0.04499616 -0.08896831 -0.08214585 -0.08465826]\n",
      " [ 0.06043046 -0.0342546   0.02364789 -0.07920524  0.09951663]\n",
      " [-0.0676629  -0.09429265 -0.03801837 -0.01954129  0.0616178 ]]\n",
      "Biases:\n",
      "[[0.57180987 0.94851941 0.85852788 0.88700206 0.09368637]]\n",
      "\n",
      "Layer 2 - Weights:\n",
      "[[-6.27361346e-02 -4.22939819e-02]\n",
      " [ 7.35123820e-05 -6.44106497e-02]\n",
      " [ 8.67242274e-02  8.11545084e-02]\n",
      " [-8.62490533e-02 -3.39389056e-02]\n",
      " [-2.64489087e-02  5.39973904e-02]]\n",
      "Biases:\n",
      "[[0.58831107 0.41993214]]\n",
      "\n",
      "Layer 3 - Weights:\n",
      "[[-0.03894882]\n",
      " [-0.05979878]]\n",
      "Biases:\n",
      "[[0.96925353]]\n",
      "\n",
      "Accuracy: 0.8023952095808383\n",
      "Test error:  0.15439130534855672\n"
     ]
    },
    {
     "data": {
      "image/png": "[encoded data removed]",
      "text/plain": [
       "<Figure size 640x480 with 1 Axes>"
      ]
     },
     "metadata": {},
     "output_type": "display_data"
    }
   ],
   "source": [
    "# Treinar a rede neural\n",
    "nn.fit(X_train, y_train)\n",
    "\n",
    "y_pred = nn.predict(X_test)\n",
    "\n",
    "# Arredondar as previsões para 0 ou 1\n",
    "rounded_predictions = np.round(y_pred)\n",
    "\n",
    "# Calcular a acurácia\n",
    "\n",
    "accuracy = accuracy_score(y_test, rounded_predictions)\n",
    "# f1 score\n",
    "#f1 = f1_score(y_test, rounded_predictions)\n",
    "# Imprimir a acurácia\n",
    "print(\"Accuracy:\", accuracy)\n",
    "#Imiprimir mse\n",
    "print(\"Test error: \",mean_squared_error(y_test, y_pred))\n",
    "#Imiprimir f1_score\n",
    "#print(\"f1_score:\", f1)\n",
    "\n",
    "nn.plot_learning_curve()\n"
   ]
  },
  {
   "cell_type": "code",
   "execution_count": 11,
   "id": "7dedc7f3-9e82-472c-9044-92d6ffffc624",
   "metadata": {
    "tags": []
   },
   "outputs": [
    {
     "data": {
      "image/png": "[encoded data removed]",
      "text/plain": [
       "<Figure size 800x600 with 2 Axes>"
      ]
     },
     "metadata": {},
     "output_type": "display_data"
    }
   ],
   "source": [
    "cm = confusion_matrix(y_test, rounded_predictions)\n",
    "cm_normalized = cm.astype('float') / cm.sum(axis=1)[:, np.newaxis]\n",
    "plt.figure(figsize=(8, 6))\n",
    "sns.heatmap(cm_normalized, annot=True,cmap='crest', fmt=\".2f\", xticklabels=['0', '1'], yticklabels=['0', '1'],vmax=1,vmin=-1)\n",
    "plt.title('Matriz de Confusão Normalizada')\n",
    "plt.xlabel('Predicted Label')\n",
    "plt.ylabel('True Label')\n",
    "plt.show()"
   ]
  },
  {
   "cell_type": "code",
   "execution_count": 12,
   "id": "271d5ca1-85f2-4416-9118-2236b5aa3662",
   "metadata": {
    "tags": []
   },
   "outputs": [
    {
     "name": "stdout",
     "output_type": "stream",
     "text": [
      "Layer 1 - Weights:\n",
      "[[ 0.27736548 -0.02507811 -0.00102769 -0.16512219  0.72695127]\n",
      " [ 0.46126377 -0.05711588 -0.2382786   0.02817202 -0.22151334]\n",
      " [-0.01533924 -0.04257801  0.04936836 -0.15215048  0.0860002 ]\n",
      " [ 0.16286184 -0.09536487 -0.05180507 -0.14220673  0.20628031]\n",
      " [ 0.1252563  -0.09541081 -0.11172397 -0.03503492 -0.12685212]]\n",
      "Biases:\n",
      "[[0.56972722 0.94849285 0.86012687 0.88663697 0.09823623]]\n",
      "\n",
      "Layer 2 - Weights:\n",
      "[[-0.32572912 -0.25496685]\n",
      " [-0.02267425 -0.07817343]\n",
      " [ 0.37633367  0.33311774]\n",
      " [-0.13940629 -0.06717369]\n",
      " [-0.65984022 -0.48893693]]\n",
      "Biases:\n",
      "[[0.58695979 0.41888391]]\n",
      "\n",
      "Layer 3 - Weights:\n",
      "[[-0.76490504]\n",
      " [-0.59735137]]\n",
      "Biases:\n",
      "[[0.97035596]]\n",
      "\n"
     ]
    }
   ],
   "source": [
    "nn.print_parameters()"
   ]
  },
  {
   "cell_type": "code",
   "execution_count": null,
   "id": "2eadc5ef-620c-4437-b22f-f3db0686f6d8",
   "metadata": {},
   "outputs": [],
   "source": []
  },
  {
   "cell_type": "code",
   "execution_count": null,
   "id": "98073a79-85cc-46a0-b6b6-d39237308e5b",
   "metadata": {},
   "outputs": [],
   "source": []
  }
 ],
 "metadata": {
  "kernelspec": {
   "display_name": "Python 3 (ipykernel)",
   "language": "python",
   "name": "python3"
  },
  "language_info": {
   "codemirror_mode": {
    "name": "ipython",
    "version": 3
   },
   "file_extension": ".py",
   "mimetype": "text/x-python",
   "name": "python",
   "nbconvert_exporter": "python",
   "pygments_lexer": "ipython3",
   "version": "3.11.5"
  }
 },
 "nbformat": 4,
 "nbformat_minor": 5
}
